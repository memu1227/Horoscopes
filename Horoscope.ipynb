{
 "cells": [
  {
   "cell_type": "markdown",
   "metadata": {},
   "source": [
    "# Creating a Simple Horoscope Program\n",
    "The goal is to generate a birth chart based on user input and then use the sun sign to retrieve the horoscope from online."
   ]
  },
  {
   "cell_type": "markdown",
   "metadata": {},
   "source": [
    "## Importing Libraries"
   ]
  },
  {
   "cell_type": "code",
   "execution_count": null,
   "metadata": {},
   "outputs": [],
   "source": [
    "#import main libraries for creating chart\n",
    "from kerykeion import AstrologicalSubject, Report,KerykeionChartSVG\n",
    "import os\n",
    "#import for web scraping\n",
    "import requests\n",
    "from bs4 import BeautifulSoup\n",
    "from pathlib import Path\n",
    "import cairosvg\n",
    "import datetime\n",
    "import textwrap\n",
    "from IPython.display import display, HTML"
   ]
  },
  {
   "cell_type": "code",
   "execution_count": null,
   "metadata": {},
   "outputs": [],
   "source": [
    "#Create temporary cache variable\n",
    "os.environ[\"KERYKEION_CACHE_DIR\"] = \"/tmp/kerykeion_cache\""
   ]
  },
  {
   "cell_type": "markdown",
   "metadata": {},
   "source": [
    "## Generating functions for User Inputs "
   ]
  },
  {
   "cell_type": "code",
   "execution_count": null,
   "metadata": {},
   "outputs": [],
   "source": [
    "#User input for generating birth chart\n",
    "\n",
    "#Functions for: Name, year, month, day, hour, minutes, city, country\n",
    "\n",
    "#ask for name, convert to string\n",
    "def get_name():\n",
    "    try:\n",
    "        name = str(input(\"\"\"What's your name:\"\"\"))\n",
    "    except:\n",
    "        name = str(input(\"\"\"Please enter a valid name:\"\"\"))\n",
    "    \n",
    "    return name\n",
    "\n",
    "#ask for year, convert it to number\n",
    "def get_year():\n",
    "    while True:\n",
    "        try:\n",
    "            year = int(input(\"What year were you born: \"))\n",
    "            if len(str(year)) != 4:\n",
    "                raise ValueError(\"Year must be 4 digits\")\n",
    "            if year > datetime.datetime.today().year:\n",
    "                raise ValueError(\"Year can't be in the future\")  \n",
    "            return year\n",
    "        except ValueError as err:\n",
    "            print(err)\n",
    "            continue\n",
    "\n",
    "\n",
    "#ask for month (in the form of a digit), convert it to number\n",
    "def get_month():\n",
    "    months = [\"january\", \"february\", \"march\", \"april\", \"may\", \"june\", \"july\", \"august\", \"september\", \"october\", \"november\", \"december\"]\n",
    "\n",
    "    while True:\n",
    "        try:\n",
    "            month = input(\"Enter month (1-12 or name): \")\n",
    "            \n",
    "            # Check if month is a name\n",
    "            if month.lower() in months:\n",
    "                month = months.index(month.lower()) + 1 \n",
    "\n",
    "            month = int(month)\n",
    "\n",
    "            if month < 1 or month > 12:\n",
    "                raise ValueError(\"Invalid month number\")\n",
    "\n",
    "            return month\n",
    "\n",
    "        except ValueError:\n",
    "            print(\"Please enter a valid month between 1-12\")\n",
    "\n",
    "#ask for day (in the form of a digit), convert it to number\n",
    "days_in_month = [31, 29, 31, 30, 31, 30, 31, 31, 30, 31, 30, 31]\n",
    "def get_day(month):\n",
    "    while True:\n",
    "        try: \n",
    "            day = int(input(f\"Enter day (1-{days_in_month[month-1]}): \"))\n",
    "            \n",
    "            if day < 1 or day > days_in_month[month-1]:\n",
    "                raise ValueError(\"Invalid day\")\n",
    "                \n",
    "            return day\n",
    "        \n",
    "        except ValueError:\n",
    "            print(\"Please enter a valid day\")\n",
    "     \n",
    "\n",
    "#ask for hour, convert it to number\n",
    "\n",
    "def get_hour():\n",
    "\n",
    "    while True:\n",
    "        text = input(\"Enter hour (1-12 AM/PM or 0-23): \")\n",
    "        \n",
    "        try:\n",
    "            # See if valid integer\n",
    "            hour = int(text) \n",
    "            if hour < 0 or hour > 23:\n",
    "                raise ValueError()\n",
    "            \n",
    "        except ValueError:  \n",
    "            # Try parsing as timestamp\n",
    "            try:\n",
    "                dt = datetime.datetime.strptime(text, \"%I %p\")\n",
    "                hour = dt.hour\n",
    "                \n",
    "            except ValueError:\n",
    "                # Invalid \n",
    "                print(\"Invalid input, please enter valid hour\")\n",
    "                continue\n",
    "                \n",
    "        return hour\n",
    "    \n",
    "#ask for minute\n",
    "def get_minute():\n",
    "\n",
    "    while True:\n",
    "        text = input(\"Enter minutes (0-59): \")\n",
    "        \n",
    "        try:\n",
    "            minute = int(text)\n",
    "            if minute < 0 or minute > 59: \n",
    "                raise ValueError()\n",
    "            return minute\n",
    "            \n",
    "        except ValueError:\n",
    "            print(\"Invalid input, please enter valid minutes\")\n",
    "\n",
    "#ask for city, convert to string\n",
    "def get_city():\n",
    "    try:\n",
    "        city = str(input(\"What City were you born in:\"))\n",
    "    except:\n",
    "        city = str(input(\"Please enter a valid city:\"))\n",
    "    \n",
    "    return city\n",
    "\n",
    "#ask for country, convert to string\n",
    "def get_country():\n",
    "    try:\n",
    "        country = str(input(\"What Country were you born in:\"))\n",
    "    except:\n",
    "        country = str(input(\"Please enter a valid Country:\"))\n",
    "    \n",
    "    return country\n",
    "\n"
   ]
  },
  {
   "cell_type": "markdown",
   "metadata": {},
   "source": [
    "### Assigning Variables for user Inputs"
   ]
  },
  {
   "cell_type": "code",
   "execution_count": null,
   "metadata": {},
   "outputs": [],
   "source": [
    "name = get_name()\n",
    "year = get_year()\n",
    "month = get_month()\n",
    "day = get_day(month)\n",
    "hour = get_hour()\n",
    "minute = get_minute()\n",
    "city = get_city()\n",
    "country = get_country()"
   ]
  },
  {
   "cell_type": "markdown",
   "metadata": {},
   "source": [
    "## Creating the birth chart"
   ]
  },
  {
   "cell_type": "code",
   "execution_count": null,
   "metadata": {},
   "outputs": [],
   "source": [
    "astro = AstrologicalSubject(name, year,month,day,hour,minute,city,country)"
   ]
  },
  {
   "cell_type": "markdown",
   "metadata": {},
   "source": [
    "### Generating the Report\n"
   ]
  },
  {
   "cell_type": "code",
   "execution_count": null,
   "metadata": {},
   "outputs": [],
   "source": [
    "report = Report(astro)\n",
    "report.print_report()"
   ]
  },
  {
   "cell_type": "markdown",
   "metadata": {},
   "source": [
    "#### More Detailed Information From the Report (Examples)"
   ]
  },
  {
   "cell_type": "code",
   "execution_count": null,
   "metadata": {},
   "outputs": [],
   "source": [
    "#houses\n",
    "print(astro.tenth_house)\n",
    "print(astro.fifth_house)\n",
    "print(astro.twelfth_house)"
   ]
  },
  {
   "cell_type": "code",
   "execution_count": null,
   "metadata": {},
   "outputs": [],
   "source": [
    "#Planets and Moon\n",
    "print(astro.moon)\n",
    "print(astro.jupiter)\n",
    "print(astro.saturn)"
   ]
  },
  {
   "cell_type": "code",
   "execution_count": null,
   "metadata": {},
   "outputs": [],
   "source": [
    "svg_chart = KerykeionChartSVG(astro)\n",
    "svg_template = svg_chart.makeTemplate()\n",
    "\n",
    "with open('chart.svg', 'w') as f:\n",
    "  f.write(svg_template)"
   ]
  },
  {
   "cell_type": "markdown",
   "metadata": {},
   "source": [
    "### Extracting Horoscope Based on Sun Sign"
   ]
  },
  {
   "cell_type": "code",
   "execution_count": null,
   "metadata": {},
   "outputs": [],
   "source": [
    "#extract just the sign\n",
    "sun_sign = astro.sun['sign']\n",
    "print(sun_sign)"
   ]
  },
  {
   "cell_type": "code",
   "execution_count": null,
   "metadata": {},
   "outputs": [],
   "source": [
    "# Map sign to zodiac url slug\n",
    "sign_to_url = {\n",
    "  \"Ari\": \"aries\",\n",
    "  \"Tau\": \"taurus\",\n",
    "  \"Gem\": \"gemini\",\n",
    "  \"Can\": \"cancer\",\n",
    "  \"Cap\": \"capricorn\",\n",
    "  \"Vir\": \"virgo\",\n",
    "  \"Sco\": \"scorpio\",\n",
    "  \"Sag\": \"sagittarius\",\n",
    "  \"Aqu\": \"aquarius\",\n",
    "  \"Pis\": \"pisces\",\n",
    "  \"Lib\": \"libra\",\n",
    "  \"Leo\": \"leo\"\n",
    "}"
   ]
  },
  {
   "cell_type": "code",
   "execution_count": null,
   "metadata": {},
   "outputs": [],
   "source": [
    "url_slug = sign_to_url[sun_sign]"
   ]
  },
  {
   "cell_type": "code",
   "execution_count": null,
   "metadata": {},
   "outputs": [],
   "source": [
    "# Construct hororscope url\n",
    "url = f\"https://www.astrology.com/horoscope/daily/{url_slug}.html\" "
   ]
  },
  {
   "cell_type": "code",
   "execution_count": null,
   "metadata": {},
   "outputs": [],
   "source": [
    "#Scrape Page for Horoscope Text\n",
    "response = requests.get(url)\n",
    "soup = BeautifulSoup(response.content, 'lxml')\n",
    "\n",
    "# Extract horoscope \n",
    "horo_div = soup.find(\"div\", {\"id\": \"content\"})\n",
    "\n",
    "daily_horoscope = horo_div.p.text\n",
    "\n",
    "\n",
    "# Replace newline characters with spaces\n",
    "daily_horoscope = daily_horoscope.replace('\\n', ' ')\n",
    "\n",
    "# Format and display the horoscope without scrollbars\n",
    "formatted_horoscope = ' '.join(textwrap.wrap(daily_horoscope, width=80))\n",
    "html_code = f\"<div>Daily Horoscope for {sun_sign}:</div><div>{formatted_horoscope}</div>\"\n",
    "display(HTML(html_code))"
   ]
  }
 ],
 "metadata": {
  "kernelspec": {
   "display_name": "Python 3",
   "language": "python",
   "name": "python3"
  },
  "language_info": {
   "codemirror_mode": {
    "name": "ipython",
    "version": 3
   },
   "file_extension": ".py",
   "mimetype": "text/x-python",
   "name": "python",
   "nbconvert_exporter": "python",
   "pygments_lexer": "ipython3",
   "version": "3.11.5"
  },
  "orig_nbformat": 4
 },
 "nbformat": 4,
 "nbformat_minor": 2
}
