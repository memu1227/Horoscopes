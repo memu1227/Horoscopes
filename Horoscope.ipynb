{
 "cells": [
  {
   "cell_type": "markdown",
   "metadata": {},
   "source": [
    "# Creating a Simple Horoscope Program\n",
    "The goal is to generate a birth chart based on user input and then use the sun sign to retrieve the horoscope from online."
   ]
  },
  {
   "cell_type": "markdown",
   "metadata": {},
   "source": [
    "## Importing Libraries"
   ]
  },
  {
   "cell_type": "code",
   "execution_count": 124,
   "metadata": {},
   "outputs": [],
   "source": [
    "#import main libraries for creating chart\n",
    "from kerykeion import AstrologicalSubject, Report,KerykeionChartSVG\n",
    "import os\n",
    "#import for web scraping\n",
    "import requests\n",
    "from bs4 import BeautifulSoup\n",
    "from pathlib import Path\n",
    "import cairosvg\n",
    "import datetime\n",
    "import textwrap\n",
    "from IPython.display import display, HTML"
   ]
  },
  {
   "cell_type": "code",
   "execution_count": 125,
   "metadata": {},
   "outputs": [],
   "source": [
    "#Create temporary cache variable\n",
    "os.environ[\"KERYKEION_CACHE_DIR\"] = \"/tmp/kerykeion_cache\""
   ]
  },
  {
   "cell_type": "markdown",
   "metadata": {},
   "source": [
    "## Generating functions for User Inputs "
   ]
  },
  {
   "cell_type": "code",
   "execution_count": 126,
   "metadata": {},
   "outputs": [],
   "source": [
    "#User input for generating birth chart\n",
    "\n",
    "#Functions for: Name, year, month, day, hour, minutes, city, country\n",
    "\n",
    "#ask for name, convert to string\n",
    "def get_name():\n",
    "    try:\n",
    "        name = str(input(\"\"\"What's your name:\"\"\"))\n",
    "    except:\n",
    "        name = str(input(\"\"\"Please enter a valid name:\"\"\"))\n",
    "    \n",
    "    return name\n",
    "\n",
    "#ask for year, convert it to number\n",
    "def get_year():\n",
    "    while True:\n",
    "        try:\n",
    "            year = int(input(\"What year were you born: \"))\n",
    "            if len(str(year)) != 4:\n",
    "                raise ValueError(\"Year must be 4 digits\")\n",
    "            if year > datetime.datetime.today().year:\n",
    "                raise ValueError(\"Year can't be in the future\")  \n",
    "            return year\n",
    "        except ValueError as err:\n",
    "            print(err)\n",
    "            continue\n",
    "\n",
    "\n",
    "#ask for month (in the form of a digit), convert it to number\n",
    "def get_month():\n",
    "    months = [\"january\", \"february\", \"march\", \"april\", \"may\", \"june\", \"july\", \"august\", \"september\", \"october\", \"november\", \"december\"]\n",
    "\n",
    "    while True:\n",
    "        try:\n",
    "            month = input(\"Enter month (1-12 or name): \")\n",
    "            \n",
    "            # Check if month is a name\n",
    "            if month.lower() in months:\n",
    "                month = months.index(month.lower()) + 1 \n",
    "\n",
    "            month = int(month)\n",
    "\n",
    "            if month < 1 or month > 12:\n",
    "                raise ValueError(\"Invalid month number\")\n",
    "\n",
    "            return month\n",
    "\n",
    "        except ValueError:\n",
    "            print(\"Please enter a valid month between 1-12\")\n",
    "\n",
    "#ask for day (in the form of a digit), convert it to number\n",
    "days_in_month = [31, 29, 31, 30, 31, 30, 31, 31, 30, 31, 30, 31]\n",
    "def get_day(month):\n",
    "    while True:\n",
    "        try: \n",
    "            day = int(input(f\"Enter day (1-{days_in_month[month-1]}): \"))\n",
    "            \n",
    "            if day < 1 or day > days_in_month[month-1]:\n",
    "                raise ValueError(\"Invalid day\")\n",
    "                \n",
    "            return day\n",
    "        \n",
    "        except ValueError:\n",
    "            print(\"Please enter a valid day\")\n",
    "     \n",
    "\n",
    "#ask for hour, convert it to number\n",
    "\n",
    "def get_hour():\n",
    "\n",
    "    while True:\n",
    "        text = input(\"Enter hour (1-12 AM/PM or 0-23): \")\n",
    "        \n",
    "        try:\n",
    "            # See if valid integer\n",
    "            hour = int(text) \n",
    "            if hour < 0 or hour > 23:\n",
    "                raise ValueError()\n",
    "            \n",
    "        except ValueError:  \n",
    "            # Try parsing as timestamp\n",
    "            try:\n",
    "                dt = datetime.datetime.strptime(text, \"%I %p\")\n",
    "                hour = dt.hour\n",
    "                \n",
    "            except ValueError:\n",
    "                # Invalid \n",
    "                print(\"Invalid input, please enter valid hour\")\n",
    "                continue\n",
    "                \n",
    "        return hour\n",
    "    \n",
    "#ask for minute\n",
    "def get_minute():\n",
    "\n",
    "    while True:\n",
    "        text = input(\"Enter minutes (0-59): \")\n",
    "        \n",
    "        try:\n",
    "            minute = int(text)\n",
    "            if minute < 0 or minute > 59: \n",
    "                raise ValueError()\n",
    "            return minute\n",
    "            \n",
    "        except ValueError:\n",
    "            print(\"Invalid input, please enter valid minutes\")\n",
    "\n",
    "#ask for city, convert to string\n",
    "def get_city():\n",
    "    try:\n",
    "        city = str(input(\"What City were you born in:\"))\n",
    "    except:\n",
    "        city = str(input(\"Please enter a valid city:\"))\n",
    "    \n",
    "    return city\n",
    "\n",
    "#ask for country, convert to string\n",
    "def get_country():\n",
    "    try:\n",
    "        country = str(input(\"What Country were you born in:\"))\n",
    "    except:\n",
    "        country = str(input(\"Please enter a valid Country:\"))\n",
    "    \n",
    "    return country\n",
    "\n"
   ]
  },
  {
   "cell_type": "markdown",
   "metadata": {},
   "source": [
    "### Assigning Variables for user Inputs"
   ]
  },
  {
   "cell_type": "code",
   "execution_count": 127,
   "metadata": {},
   "outputs": [],
   "source": [
    "name = get_name()\n",
    "year = get_year()\n",
    "month = get_month()\n",
    "day = get_day(month)\n",
    "hour = get_hour()\n",
    "minute = get_minute()\n",
    "city = get_city()\n",
    "country = get_country()"
   ]
  },
  {
   "cell_type": "markdown",
   "metadata": {},
   "source": [
    "## Creating the birth chart"
   ]
  },
  {
   "cell_type": "code",
   "execution_count": 128,
   "metadata": {},
   "outputs": [],
   "source": [
    "astro = AstrologicalSubject(name, year,month,day,hour,minute,city,country)"
   ]
  },
  {
   "cell_type": "markdown",
   "metadata": {},
   "source": [
    "### Generating the Report\n"
   ]
  },
  {
   "cell_type": "code",
   "execution_count": 129,
   "metadata": {},
   "outputs": [
    {
     "name": "stdout",
     "output_type": "stream",
     "text": [
      "\n",
      "+- Kerykeion report for John Doe -+\n",
      "+-----------+------+-----------+-----------+----------+\n",
      "| Date      | Time | Location  | Longitude | Latitude |\n",
      "+-----------+------+-----------+-----------+----------+\n",
      "| 23/4/1997 | 17:5 | Milan, IT | 9.18951   | 45.46427 |\n",
      "+-----------+------+-----------+-----------+----------+\n",
      "+-----------+------+-------+------+---------------+\n",
      "| Planet    | Sign | Pos.  | Ret. | House         |\n",
      "+-----------+------+-------+------+---------------+\n",
      "| Sun       | Tau  | 3.49  | -    | Eighth_House  |\n",
      "| Moon      | Sco  | 12.52 | -    | Second_House  |\n",
      "| Mercury   | Tau  | 6.45  | R    | Eighth_House  |\n",
      "| Venus     | Tau  | 8.93  | -    | Eighth_House  |\n",
      "| Mars      | Vir  | 16.85 | R    | Twelfth_House |\n",
      "| Jupiter   | Aqu  | 18.58 | -    | Fifth_House   |\n",
      "| Saturn    | Ari  | 13.18 | -    | Seventh_House |\n",
      "| Uranus    | Aqu  | 8.51  | -    | Fifth_House   |\n",
      "| Neptune   | Cap  | 29.94 | -    | Fourth_House  |\n",
      "| Pluto     | Sag  | 5.05  | R    | Third_House   |\n",
      "| Mean_Node | Vir  | 27.09 | R    | Twelfth_House |\n",
      "| True_Node | Vir  | 28.39 | R    | First_House   |\n",
      "| Chiron    | Lib  | 28.55 | R    | Second_House  |\n",
      "+-----------+------+-------+------+---------------+\n",
      "+----------------+------+----------+\n",
      "| House          | Sign | Position |\n",
      "+----------------+------+----------+\n",
      "| First_House    | Vir  | 27.83    |\n",
      "| Second_House   | Lib  | 22.77    |\n",
      "| Third_House    | Sco  | 22.91    |\n",
      "| Fourth_House   | Sag  | 27.37    |\n",
      "| Fifth_House    | Aqu  | 2.0      |\n",
      "| Sixth_House    | Pis  | 2.47     |\n",
      "| Seventh_House  | Pis  | 27.83    |\n",
      "| Eighth_House   | Ari  | 22.77    |\n",
      "| Ninth_House    | Tau  | 22.91    |\n",
      "| Tenth_House    | Gem  | 27.37    |\n",
      "| Eleventh_House | Leo  | 2.0      |\n",
      "| Twelfth_House  | Vir  | 2.47     |\n",
      "+----------------+------+----------+\n"
     ]
    }
   ],
   "source": [
    "report = Report(astro)\n",
    "report.print_report()"
   ]
  },
  {
   "cell_type": "markdown",
   "metadata": {},
   "source": [
    "#### More Detailed Information From the Report (Examples)"
   ]
  },
  {
   "cell_type": "code",
   "execution_count": 130,
   "metadata": {},
   "outputs": [
    {
     "name": "stdout",
     "output_type": "stream",
     "text": [
      "{'name': 'Tenth_House', 'quality': 'Mutable', 'element': 'Air', 'sign': 'Gem', 'sign_num': 2, 'position': 27.370880282103926, 'abs_pos': 87.37088028210393, 'emoji': '♊️', 'point_type': 'House'}\n",
      "{'name': 'Fifth_House', 'quality': 'Fixed', 'element': 'Air', 'sign': 'Aqu', 'sign_num': 10, 'position': 1.9966788551137142, 'abs_pos': 301.9966788551137, 'emoji': '♒️', 'point_type': 'House'}\n",
      "{'name': 'Twelfth_House', 'quality': 'Mutable', 'element': 'Earth', 'sign': 'Vir', 'sign_num': 5, 'position': 2.4687736602631105, 'abs_pos': 152.4687736602631, 'emoji': '♍️', 'point_type': 'House'}\n"
     ]
    }
   ],
   "source": [
    "#houses\n",
    "print(astro.tenth_house)\n",
    "print(astro.fifth_house)\n",
    "print(astro.twelfth_house)"
   ]
  },
  {
   "cell_type": "code",
   "execution_count": 131,
   "metadata": {},
   "outputs": [
    {
     "name": "stdout",
     "output_type": "stream",
     "text": [
      "{'name': 'Moon', 'quality': 'Fixed', 'element': 'Water', 'sign': 'Sco', 'sign_num': 7, 'position': 12.515721962935743, 'abs_pos': 222.51572196293574, 'emoji': '♏️', 'point_type': 'Planet', 'house': 'Second_House', 'retrograde': False}\n",
      "{'name': 'Jupiter', 'quality': 'Fixed', 'element': 'Air', 'sign': 'Aqu', 'sign_num': 10, 'position': 18.575596934433293, 'abs_pos': 318.5755969344333, 'emoji': '♒️', 'point_type': 'Planet', 'house': 'Fifth_House', 'retrograde': False}\n",
      "{'name': 'Saturn', 'quality': 'Cardinal', 'element': 'Fire', 'sign': 'Ari', 'sign_num': 0, 'position': 13.181571781114851, 'abs_pos': 13.181571781114851, 'emoji': '♈️', 'point_type': 'Planet', 'house': 'Seventh_House', 'retrograde': False}\n"
     ]
    }
   ],
   "source": [
    "#Planets and Moon\n",
    "print(astro.moon)\n",
    "print(astro.jupiter)\n",
    "print(astro.saturn)"
   ]
  },
  {
   "cell_type": "code",
   "execution_count": 132,
   "metadata": {},
   "outputs": [],
   "source": [
    "svg_chart = KerykeionChartSVG(astro)\n",
    "svg_template = svg_chart.makeTemplate()\n",
    "\n",
    "with open('chart.svg', 'w') as f:\n",
    "  f.write(svg_template)"
   ]
  },
  {
   "cell_type": "markdown",
   "metadata": {},
   "source": [
    "### Extracting Horoscope Based on Sun Sign"
   ]
  },
  {
   "cell_type": "code",
   "execution_count": 133,
   "metadata": {},
   "outputs": [
    {
     "name": "stdout",
     "output_type": "stream",
     "text": [
      "Tau\n"
     ]
    }
   ],
   "source": [
    "#extract just the sign\n",
    "sun_sign = astro.sun['sign']\n",
    "print(sun_sign)"
   ]
  },
  {
   "cell_type": "code",
   "execution_count": 134,
   "metadata": {},
   "outputs": [],
   "source": [
    "# Map sign to zodiac url slug\n",
    "sign_to_url = {\n",
    "  \"Ari\": \"aries\",\n",
    "  \"Tau\": \"taurus\",\n",
    "  \"Gem\": \"gemini\",\n",
    "  \"Can\": \"cancer\",\n",
    "  \"Cap\": \"capricorn\",\n",
    "  \"Vir\": \"virgo\",\n",
    "  \"Sco\": \"scorpio\",\n",
    "  \"Sag\": \"sagittarius\",\n",
    "  \"Aqu\": \"aquarius\",\n",
    "  \"Pis\": \"pisces\",\n",
    "  \"Lib\": \"libra\",\n",
    "  \"Leo\": \"leo\"\n",
    "}"
   ]
  },
  {
   "cell_type": "code",
   "execution_count": 135,
   "metadata": {},
   "outputs": [],
   "source": [
    "url_slug = sign_to_url[sun_sign]"
   ]
  },
  {
   "cell_type": "code",
   "execution_count": 136,
   "metadata": {},
   "outputs": [],
   "source": [
    "# Construct hororscope urls\n",
    "daily_url = f\"https://www.astrology.com/horoscope/daily/{url_slug}.html\" \n",
    "dailylove_url = f\"https://www.astrology.com/horoscope/daily-love/{url_slug}.html\"\n",
    "dailywork_url = f\"https://www.astrology.com/horoscope/daily-work/{url_slug}.html\""
   ]
  },
  {
   "cell_type": "code",
   "execution_count": 137,
   "metadata": {},
   "outputs": [
    {
     "data": {
      "text/html": [
       "<div>Daily Horoscope for Tau:</div><div>The moon continues its journey through Aries and your house of introspection, dear Taurus, putting you in a private and contemplative headspace. Unfortunately, boundaries could be crossed as Venus and Uranus face off, and loved ones may not understand your need for space. Don't hesitate to draw lines if you're in need of reprieve, even if you must get loud to make this point. Just try to handle conflict from a place of grace first, as tension could easily spiral. Peace will be easy to find within when Luna cozies up to Chiron this evening, inspiring you to temporarily disappear.</div>"
      ],
      "text/plain": [
       "<IPython.core.display.HTML object>"
      ]
     },
     "metadata": {},
     "output_type": "display_data"
    },
    {
     "data": {
      "text/html": [
       "<div>Daily Love Horoscope for Tau:</div><div>Strong, solid energy is up for the taking today and tomorrow, Taurus. Our Great Taskmaster, Saturn, will smile peacefully over in a sextile to Mercury today in the celestial sky. Get ready for a more practical, realistic, and honest approach to communicating with your love. This is a fantastic moment to map out your goals and what you’d like to create as a team not only in the months ahead, but the years beyond, as well. You’ll have a strong sense of clear thinking and judgment, bringing you the far-sighted vision you need. Be sure to assess the details. With Mercury retrograde, you could even be rehashing previous plans.</div>"
      ],
      "text/plain": [
       "<IPython.core.display.HTML object>"
      ]
     },
     "metadata": {},
     "output_type": "display_data"
    },
    {
     "data": {
      "text/html": [
       "<div>Daily Work Horoscope for Tau:</div><div>Do not let it get to you, Taurus! You may have to take a deep breath around certain coworkers when the moon in Aries conjuncts Chiron retrograde in Aries. The conjunction could allude to a potential issue with that coworker who feels like a frenemy. You might be doing just fine throughout your workday when they say something that feels like a dig. Although it may hurt, you may need to pause for the cause to consider how you want to react. Try to let it go in the moment instead of holding onto your hurt feelings. </div>"
      ],
      "text/plain": [
       "<IPython.core.display.HTML object>"
      ]
     },
     "metadata": {},
     "output_type": "display_data"
    }
   ],
   "source": [
    "urls = [daily_url,dailylove_url,dailywork_url]\n",
    "text = [\"Daily\",\"Daily Love\",\"Daily Work\"]\n",
    "#Scrape Page for Daily Horoscope Text\n",
    "for url, title in zip(urls, text):\n",
    "    response = requests.get(url)\n",
    "    soup = BeautifulSoup(response.content, 'lxml')\n",
    "    #extract horoscope\n",
    "    
    "    horo_div = soup.find(\"div\", {\"id\": \"content\"})\n",
    "\n",
    "    daily_horoscope = horo_div.p.text\n",
    "\n",
    "    # Replace newline characters with spaces\n",
    "    daily_horoscope = daily_horoscope.replace('\\n', ' ')\n",
    "\n",
    "    # Format and display the horoscope without scrollbars\n",
    "    formatted_horoscope = ' '.join(textwrap.wrap(daily_horoscope, width=80))\n",
    "    html_code = f\"<div>{title} Horoscope for {sun_sign}:</div><div>{formatted_horoscope}</div>\"\n",
    "    display(HTML(html_code))"
   ]
  }
 ],
 "metadata": {
  "kernelspec": {
   "display_name": "Python 3",
   "language": "python",
   "name": "python3"
  },
  "language_info": {
   "codemirror_mode": {
    "name": "ipython",
    "version": 3
   },
   "file_extension": ".py",
   "mimetype": "text/x-python",
   "name": "python",
   "nbconvert_exporter": "python",
   "pygments_lexer": "ipython3",
   "version": "3.11.5"
  },
  "orig_nbformat": 4
 },
 "nbformat": 4,
 "nbformat_minor": 2
}
